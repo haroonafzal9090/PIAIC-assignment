{
 "cells": [
  {
   "cell_type": "code",
   "execution_count": 1,
   "id": "d28adbdf",
   "metadata": {},
   "outputs": [
    {
     "name": "stdout",
     "output_type": "stream",
     "text": [
      "Enter Electric Charges: 300\n",
      "Electric Charges For 300 = 3765.0\n",
      "Uniform Charges For 300 = 171.45\n"
     ]
    }
   ],
   "source": [
    "def electricity(monthly_units):\n",
    "    charges = 0\n",
    "    if monthly_units > 0 and monthly_units <= 100:\n",
    "        charges = monthly_units * 9.43\n",
    "    elif monthly_units > 100 and monthly_units <= 200:\n",
    "        charges = monthly_units * 10.29\n",
    "    elif monthly_units > 200 and monthly_units <= 300:\n",
    "        charges = monthly_units * 12.55\n",
    "    elif monthly_units > 300 and monthly_units <= 400:\n",
    "        charges = monthly_units * 17.35\n",
    "    elif monthly_units > 400 and monthly_units <= 500:\n",
    "        charges = monthly_units * 18.84\n",
    "    elif monthly_units > 500 and monthly_units <= 600:\n",
    "        charges = monthly_units * 19.76\n",
    "    elif monthly_units > 600 and monthly_units <= 700:\n",
    "        charges = monthly_units * 20.24\n",
    "    elif monthly_units > 700:\n",
    "        charges = monthly_units * 23.87\n",
    "    else: # invald values given\n",
    "        charges = -1\n",
    "    \n",
    "    return charges\n",
    "\n",
    "def uniform_charges(monthly_units):\n",
    "    result = monthly_units * 0.5715\n",
    "    return result\n",
    "\n",
    "def bill_main(monthly_units):\n",
    "    electric_charges = electricity(monthly_units)\n",
    "    print(\"Electric Charges For\", monthly_units,\"=\", electric_charges)\n",
    " \n",
    "    uniform_charge =uniform_charges(monthly_units)\n",
    "    print(\"Uniform Charges For\",monthly_units,\"=\",uniform_charge)\n",
    "    \n",
    "    #fuel_charges = fuel(monthly_units)\n",
    "    #print(\"fuel charges for\",monthly_units,\"=\",fuel_charges)\n",
    "    \n",
    "    #sales_tax = sales_tax(monthly_units)\n",
    "    #print(\"sales tax for \",monthly_units,\"=\",sales_tax)\n",
    "    \n",
    "    #advance_tax = advance_tax(monthly_units)\n",
    "    #print(\"advance tax for\",monthly_units,\"=\",advance_tax)\n",
    "    \n",
    "    #tv_fee = tv_fee(monthly_units)\n",
    "    #print(\"tv fee for\",monthly_units,\"=\",tv_fee)\n",
    "    \n",
    "    #total=total(electric_charges,uniform_charges,fuel_charges,sales_tax,advance_tax,tv_fee)\n",
    "    #print(\"electric charges for\", monthly_units, \"=\", total)\n",
    "\n",
    "    \n",
    "#testing_units = [525,112,349,700,-22,450,116,10347,1152,6065,14279,-1,8478,1193]\n",
    "Monthly_Units = int(input(\"Enter Electric Charges: \"))\n",
    "bill_main(Monthly_Units)"
   ]
  },
  {
   "cell_type": "code",
   "execution_count": null,
   "id": "c53c81df",
   "metadata": {},
   "outputs": [],
   "source": []
  }
 ],
 "metadata": {
  "kernelspec": {
   "display_name": "Python 3 (ipykernel)",
   "language": "python",
   "name": "python3"
  },
  "language_info": {
   "codemirror_mode": {
    "name": "ipython",
    "version": 3
   },
   "file_extension": ".py",
   "mimetype": "text/x-python",
   "name": "python",
   "nbconvert_exporter": "python",
   "pygments_lexer": "ipython3",
   "version": "3.9.12"
  }
 },
 "nbformat": 4,
 "nbformat_minor": 5
}
